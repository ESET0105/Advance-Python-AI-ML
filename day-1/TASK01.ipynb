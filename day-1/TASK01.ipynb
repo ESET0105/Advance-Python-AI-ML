{
 "cells": [
  {
   "cell_type": "markdown",
   "id": "12a25c77-f3b8-4997-ab4f-b9739a676f7a",
   "metadata": {},
   "source": [
    "### frequency of each word in a given paragraph"
   ]
  },
  {
   "cell_type": "code",
   "execution_count": 18,
   "id": "5ab86072-1f52-4ccb-a9d1-3ac3949795f9",
   "metadata": {},
   "outputs": [],
   "source": [
    "\n",
    "def regex_remove(para):\n",
    "    regex = ['.',',','?','!',':']\n",
    "    for i in para:\n",
    "        if i in regex:\n",
    "            para = para.replace(i,\" \")\n",
    "    return para\n",
    "    \n",
    "def freq(para):\n",
    "    lst = para.split()\n",
    "    result = {}\n",
    "    for word in lst:\n",
    "        if word.lower()  in result.keys():\n",
    "            result[word.lower()]+=1\n",
    "        else:\n",
    "            result[word.lower()]=1\n",
    "    return result\n",
    "\n"
   ]
  },
  {
   "cell_type": "code",
   "execution_count": 19,
   "id": "15604b52-2d29-438d-8596-04c7f11816de",
   "metadata": {},
   "outputs": [],
   "source": [
    "para = \"HI everyone this is python programme . hi everyone python para this everyone\""
   ]
  },
  {
   "cell_type": "code",
   "execution_count": 22,
   "id": "041309c0-57ae-4271-ae14-dcc72ad3f336",
   "metadata": {},
   "outputs": [],
   "source": [
    "para = regex_remove(para)"
   ]
  },
  {
   "cell_type": "code",
   "execution_count": 23,
   "id": "5af8c929-3f6e-450f-bf96-d20462694964",
   "metadata": {},
   "outputs": [
    {
     "data": {
      "text/plain": [
       "{'hi': 2,\n",
       " 'everyone': 3,\n",
       " 'this': 2,\n",
       " 'is': 1,\n",
       " 'python': 2,\n",
       " 'programme': 1,\n",
       " 'para': 1}"
      ]
     },
     "execution_count": 23,
     "metadata": {},
     "output_type": "execute_result"
    }
   ],
   "source": [
    "freq(para)"
   ]
  },
  {
   "cell_type": "markdown",
   "id": "7205b7d4-b841-4990-bbb8-9add7a349be1",
   "metadata": {},
   "source": [
    "## create list of tuple containing student names and marks. Sort the list in descending order of marks using LAmbda"
   ]
  },
  {
   "cell_type": "code",
   "execution_count": 25,
   "id": "fa60842c-cb96-4abd-963a-c0fc3f944e95",
   "metadata": {},
   "outputs": [],
   "source": [
    "data = [('Milan',98),('Roat',90),('Gaurav',95),('vadecha',99),('random',40)]\n"
   ]
  },
  {
   "cell_type": "code",
   "execution_count": 30,
   "id": "54501d96-36f6-41f2-96b3-a49c8e77f0cb",
   "metadata": {},
   "outputs": [],
   "source": [
    "\n",
    "sorted_students = sorted(data, key=lambda x: x[1], reverse=True)\n"
   ]
  },
  {
   "cell_type": "code",
   "execution_count": 32,
   "id": "d1dc5bc8-5576-4479-b1b7-43178426b16f",
   "metadata": {},
   "outputs": [
    {
     "data": {
      "text/plain": [
       "[('vadecha', 99), ('Milan', 98), ('Gaurav', 95), ('Roat', 90), ('random', 40)]"
      ]
     },
     "execution_count": 32,
     "metadata": {},
     "output_type": "execute_result"
    }
   ],
   "source": [
    "sorted_students"
   ]
  },
  {
   "cell_type": "markdown",
   "id": "a457a7cf-1314-4d97-9c76-cd0015efd31e",
   "metadata": {},
   "source": [
    "## write a prograame to flatten a nested list using recursion\n",
    "data2 = [1,3,[3,5,[6,7],8],9,10]\n"
   ]
  },
  {
   "cell_type": "code",
   "execution_count": 36,
   "id": "27def046-d85e-4765-a1c0-11138bf56550",
   "metadata": {},
   "outputs": [],
   "source": [
    "data2 = [1,3,[3,5,[6,7],8],9,10] # nested list "
   ]
  },
  {
   "cell_type": "code",
   "execution_count": 80,
   "id": "f2e66597-c420-4139-822c-0bfe729cf1a9",
   "metadata": {},
   "outputs": [
    {
     "name": "stdout",
     "output_type": "stream",
     "text": [
      "False\n",
      "<class 'list'>\n"
     ]
    }
   ],
   "source": [
    "print(type(data2) is int)\n",
    "print(type(data2))"
   ]
  },
  {
   "cell_type": "code",
   "execution_count": 74,
   "id": "5ebdef01-1899-436e-9056-edfc6ec9fc5c",
   "metadata": {},
   "outputs": [
    {
     "data": {
      "text/plain": [
       "int"
      ]
     },
     "execution_count": 74,
     "metadata": {},
     "output_type": "execute_result"
    }
   ],
   "source": [
    "type(data2[0])"
   ]
  },
  {
   "cell_type": "code",
   "execution_count": 81,
   "id": "b350e251-e2d9-461f-b55b-a09821aaf40e",
   "metadata": {},
   "outputs": [
    {
     "name": "stdout",
     "output_type": "stream",
     "text": [
      "\n",
      "Flattened list:\n",
      "[1, 3, 3, 5, 6, 7, 8, 9, 10]\n"
     ]
    }
   ],
   "source": [
    "def flatten_list(nested_list):\n",
    "    \n",
    "    flattened = []\n",
    "    \n",
    "    for item in nested_list:\n",
    "        if isinstance(item, list):\n",
    "            \n",
    "            flattened.extend(flatten_list(item))\n",
    "        else:\n",
    "            # If the item is not a list, add it directly\n",
    "            flattened.append(item)\n",
    "    \n",
    "    return flattened\n",
    "\n",
    "data2 = [1, 3, [3, 5, [6, 7], 8], 9, 10]\n",
    "\n",
    "\n",
    "result = flatten_list(data2)\n",
    "\n",
    "print(\"\\nFlattened list:\")\n",
    "print(result)\n",
    "\n",
    "\n"
   ]
  },
  {
   "cell_type": "code",
   "execution_count": null,
   "id": "cde10c1b-862f-421a-ae5f-b11d1fbd3f5a",
   "metadata": {},
   "outputs": [],
   "source": []
  }
 ],
 "metadata": {
  "kernelspec": {
   "display_name": "Python [conda env:base] *",
   "language": "python",
   "name": "conda-base-py"
  },
  "language_info": {
   "codemirror_mode": {
    "name": "ipython",
    "version": 3
   },
   "file_extension": ".py",
   "mimetype": "text/x-python",
   "name": "python",
   "nbconvert_exporter": "python",
   "pygments_lexer": "ipython3",
   "version": "3.13.5"
  }
 },
 "nbformat": 4,
 "nbformat_minor": 5
}
