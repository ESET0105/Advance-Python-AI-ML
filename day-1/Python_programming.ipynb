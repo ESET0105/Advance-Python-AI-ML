{
 "cells": [
  {
   "cell_type": "markdown",
   "id": "542b5a21-df50-4e9c-84b7-e02e113f5c4e",
   "metadata": {},
   "source": [
    "# python Programming\n"
   ]
  },
  {
   "cell_type": "code",
   "execution_count": 9,
   "id": "ca6f8556-1729-4cce-8bd2-c72433e7e8c8",
   "metadata": {},
   "outputs": [],
   "source": [
    "x=25.98\n",
    "y=\"ohh  my goooddd\"\n",
    "z={1:['a','b']}"
   ]
  },
  {
   "cell_type": "code",
   "execution_count": 10,
   "id": "bdf07013-2277-4942-b149-2896c4c5d737",
   "metadata": {},
   "outputs": [
    {
     "name": "stdout",
     "output_type": "stream",
     "text": [
      "<class 'float'> <class 'str'> <class 'dict'>\n"
     ]
    }
   ],
   "source": [
    "print(type(x),type(y),type(z))"
   ]
  },
  {
   "cell_type": "markdown",
   "id": "cf456483-7161-4b66-8257-0ad35a04b35a",
   "metadata": {},
   "source": [
    "### NUmbers"
   ]
  },
  {
   "cell_type": "code",
   "execution_count": 11,
   "id": "61245182-3fde-4586-ac0c-573465636a85",
   "metadata": {},
   "outputs": [],
   "source": [
    "n = 10\n"
   ]
  },
  {
   "cell_type": "code",
   "execution_count": 12,
   "id": "02aa07d9-2845-4a97-a569-10300fc47bec",
   "metadata": {},
   "outputs": [
    {
     "name": "stdout",
     "output_type": "stream",
     "text": [
      "20 -2 5.0\n"
     ]
    }
   ],
   "source": [
    "print(n+10 , n-12 , n*0.5)"
   ]
  },
  {
   "cell_type": "code",
   "execution_count": 28,
   "id": "a5304982-60fa-4c87-84bf-42309c27ad95",
   "metadata": {},
   "outputs": [
    {
     "name": "stdout",
     "output_type": "stream",
     "text": [
      "11.0 2 1\n"
     ]
    }
   ],
   "source": [
    "print(n//0.9 , round(36**0.25) , n%3)"
   ]
  },
  {
   "cell_type": "markdown",
   "id": "54238bf8-7e83-4aa4-b1b2-e9650a2b6338",
   "metadata": {},
   "source": [
    "## Boolean"
   ]
  },
  {
   "cell_type": "code",
   "execution_count": 32,
   "id": "5700cc50-6dce-46af-924a-fb9602a3b83e",
   "metadata": {},
   "outputs": [
    {
     "name": "stdout",
     "output_type": "stream",
     "text": [
      "<class 'bool'> <class 'bool'>\n"
     ]
    }
   ],
   "source": [
    "r = True\n",
    "l = False\n",
    "print(type(r),type(l))"
   ]
  },
  {
   "cell_type": "code",
   "execution_count": 33,
   "id": "cfe836de-b62f-427d-a8b7-bc54a48fe95d",
   "metadata": {},
   "outputs": [
    {
     "name": "stdout",
     "output_type": "stream",
     "text": [
      "False\n"
     ]
    }
   ],
   "source": [
    "print(r and l)"
   ]
  },
  {
   "cell_type": "code",
   "execution_count": 34,
   "id": "17905b77-6f3a-4973-83eb-ee3d6dbde314",
   "metadata": {},
   "outputs": [
    {
     "name": "stdout",
     "output_type": "stream",
     "text": [
      "True\n"
     ]
    }
   ],
   "source": [
    "print(r or l)"
   ]
  },
  {
   "cell_type": "code",
   "execution_count": 36,
   "id": "5db810af-c1a2-4dae-b1fd-5d594ee3244c",
   "metadata": {},
   "outputs": [
    {
     "name": "stdout",
     "output_type": "stream",
     "text": [
      "True\n"
     ]
    }
   ],
   "source": [
    "print(not l and r)"
   ]
  },
  {
   "cell_type": "code",
   "execution_count": 37,
   "id": "1facee1d-47e7-46de-b218-c93b694d2005",
   "metadata": {},
   "outputs": [
    {
     "name": "stdout",
     "output_type": "stream",
     "text": [
      "True\n"
     ]
    }
   ],
   "source": [
    "print(l != r) #XOR gate"
   ]
  },
  {
   "cell_type": "markdown",
   "id": "dc44e99f-b3ca-49bf-b7ee-efcfd51ff979",
   "metadata": {},
   "source": [
    "## Strings"
   ]
  },
  {
   "cell_type": "code",
   "execution_count": 57,
   "id": "27211807-ea38-4805-8014-659f93f22898",
   "metadata": {},
   "outputs": [],
   "source": [
    "s = \"         hello everyone , what are you doing? i hope you're good             \"\n",
    "r = 'world'\n"
   ]
  },
  {
   "cell_type": "code",
   "execution_count": 40,
   "id": "7705d9ac-fb32-40c0-92ab-c8a19af2b886",
   "metadata": {},
   "outputs": [
    {
     "name": "stdout",
     "output_type": "stream",
     "text": [
      "hello   world\n"
     ]
    }
   ],
   "source": [
    "print(s,' ',r)"
   ]
  },
  {
   "cell_type": "code",
   "execution_count": 42,
   "id": "07792fb7-5e15-4698-b260-a86be93c4ead",
   "metadata": {},
   "outputs": [
    {
     "name": "stdout",
     "output_type": "stream",
     "text": [
      "hello,  world\n"
     ]
    }
   ],
   "source": [
    "fmt = '{}{}  {}'.format(s,\",\",r)\n",
    "print(fmt)"
   ]
  },
  {
   "cell_type": "code",
   "execution_count": 45,
   "id": "a4ddc590-f3db-47c3-9e7e-2195c34e95fd",
   "metadata": {},
   "outputs": [
    {
     "name": "stdout",
     "output_type": "stream",
     "text": [
      "HELLO\n"
     ]
    }
   ],
   "source": [
    "print(s.upper())"
   ]
  },
  {
   "cell_type": "code",
   "execution_count": 50,
   "id": "312e1bfc-29e6-4fb1-9804-09b6fb764418",
   "metadata": {},
   "outputs": [
    {
     "name": "stdout",
     "output_type": "stream",
     "text": [
      "Hello everyone , what are you doing? i hope you'r good\n"
     ]
    }
   ],
   "source": [
    "print(s.capitalize())"
   ]
  },
  {
   "cell_type": "code",
   "execution_count": 53,
   "id": "2b630d88-3f5a-47c4-975a-7ef0f51e636b",
   "metadata": {},
   "outputs": [
    {
     "name": "stdout",
     "output_type": "stream",
     "text": [
      "world\n"
     ]
    }
   ],
   "source": [
    "print(r.rjust(1))"
   ]
  },
  {
   "cell_type": "code",
   "execution_count": 60,
   "id": "a04f12c5-9598-42e1-b36c-c70022555705",
   "metadata": {},
   "outputs": [
    {
     "name": "stdout",
     "output_type": "stream",
     "text": [
      "hello everyone , what are you going? i hope you're good\n"
     ]
    }
   ],
   "source": [
    "print(s.replace(\"doing\",\"going\")) #not saved!!!!"
   ]
  },
  {
   "cell_type": "code",
   "execution_count": 62,
   "id": "b87af499-9972-40cd-b231-e7cae13ffd53",
   "metadata": {},
   "outputs": [
    {
     "name": "stdout",
     "output_type": "stream",
     "text": [
      "55\n"
     ]
    }
   ],
   "source": [
    "print(len(s))"
   ]
  },
  {
   "cell_type": "code",
   "execution_count": 68,
   "id": "0420fca5-7ee9-43ed-a809-c832bf3ac97d",
   "metadata": {},
   "outputs": [
    {
     "name": "stdout",
     "output_type": "stream",
     "text": [
      "55\n"
     ]
    }
   ],
   "source": [
    "print(len(s.rstrip()))"
   ]
  },
  {
   "cell_type": "code",
   "execution_count": 67,
   "id": "c806e6e5-7fb5-415a-9eb1-976e5d78027d",
   "metadata": {},
   "outputs": [
    {
     "name": "stdout",
     "output_type": "stream",
     "text": [
      "hello everyone , what are you doing? i hope you're good\n",
      "hello everyone , what are you doing? i hope you're good\n"
     ]
    }
   ],
   "source": [
    "print(s.strip())\n",
    "print(s)"
   ]
  },
  {
   "cell_type": "markdown",
   "id": "a531f580-7c6f-4147-a10b-a48325e7d115",
   "metadata": {},
   "source": [
    "## Data Structures"
   ]
  },
  {
   "cell_type": "markdown",
   "id": "de36ba2d-60e3-42af-bda2-285351abf693",
   "metadata": {},
   "source": [
    "#### second largest number "
   ]
  },
  {
   "cell_type": "code",
   "execution_count": 88,
   "id": "e3a182a2-3f0a-459f-84f0-5df593687bf5",
   "metadata": {},
   "outputs": [],
   "source": [
    "l = [3,7,'a',5,12]\n"
   ]
  },
  {
   "cell_type": "code",
   "execution_count": 89,
   "id": "1b1f1ae6-fe6e-4a05-8b4f-92e3ccbd6841",
   "metadata": {},
   "outputs": [
    {
     "name": "stdout",
     "output_type": "stream",
     "text": [
      "[3, 7, 'a', 5, 12, 5]\n"
     ]
    }
   ],
   "source": [
    "l.append(5)\n",
    "print(l)"
   ]
  },
  {
   "cell_type": "code",
   "execution_count": 79,
   "id": "bc9216e1-9d97-44f4-86f0-c64a2d129a19",
   "metadata": {},
   "outputs": [
    {
     "name": "stdout",
     "output_type": "stream",
     "text": [
      "5\n"
     ]
    }
   ],
   "source": [
    "last = l.pop()\n",
    "print(last)"
   ]
  },
  {
   "cell_type": "code",
   "execution_count": 91,
   "id": "0c8e65f9-cd90-411c-b49d-6453af6064cb",
   "metadata": {},
   "outputs": [],
   "source": [
    "l.remove(5)"
   ]
  },
  {
   "cell_type": "code",
   "execution_count": 92,
   "id": "c0bb213a-93ce-4062-a124-a4f864fa6c30",
   "metadata": {},
   "outputs": [
    {
     "name": "stdout",
     "output_type": "stream",
     "text": [
      "[3, 7, 'a', 12, 5]\n"
     ]
    }
   ],
   "source": [
    "print(l)"
   ]
  },
  {
   "cell_type": "code",
   "execution_count": 81,
   "id": "27678f7b-9ad2-4807-9052-c1ae5e4204a7",
   "metadata": {},
   "outputs": [
    {
     "name": "stdout",
     "output_type": "stream",
     "text": [
      "['a', 5]\n"
     ]
    }
   ],
   "source": [
    "print(l[2:4])"
   ]
  },
  {
   "cell_type": "code",
   "execution_count": 93,
   "id": "c7f10447-2935-47e3-a9ce-6cb28f2d0ad0",
   "metadata": {},
   "outputs": [],
   "source": [
    "l1 = [10, 5, 8, 20, 15]\n",
    "l2 = [5, 5, 5, 5, 5]\n",
    "l3= [10, 10, 10, 9, 8]"
   ]
  },
  {
   "cell_type": "code",
   "execution_count": 118,
   "id": "59a5094b-bc6b-48e5-a041-43cbbda6964f",
   "metadata": {},
   "outputs": [],
   "source": [
    "def second(l):\n",
    "    \n",
    "    l=list(set(l))\n",
    "    if len(l)<2:\n",
    "        return None\n",
    "    l.sort()\n",
    "\n",
    "    return l[-2]\n",
    "            \n",
    "    \n",
    "    "
   ]
  },
  {
   "cell_type": "code",
   "execution_count": 119,
   "id": "6ad5dcf5-d154-4a1c-bb41-3aea7329c980",
   "metadata": {},
   "outputs": [
    {
     "name": "stdout",
     "output_type": "stream",
     "text": [
      "15 None 9\n"
     ]
    }
   ],
   "source": [
    "print(second(l1) , second(l2) , second(l3))"
   ]
  },
  {
   "cell_type": "code",
   "execution_count": 99,
   "id": "77e9c05b-dbfe-42b7-9828-7b627a7347f5",
   "metadata": {},
   "outputs": [],
   "source": [
    "animals = ['cat','dog','lion','cow','rat']"
   ]
  },
  {
   "cell_type": "code",
   "execution_count": 100,
   "id": "c8a20f17-1a26-4a79-840b-2ad61bb447c8",
   "metadata": {},
   "outputs": [
    {
     "name": "stdout",
     "output_type": "stream",
     "text": [
      "cat is a dangerous animal\n",
      "dog is a dangerous animal\n",
      "lion is a dangerous animal\n",
      "cow is a dangerous animal\n",
      "rat is a dangerous animal\n"
     ]
    }
   ],
   "source": [
    "for animal in animals:\n",
    "    print(animal + \" is a dangerous animal\")"
   ]
  },
  {
   "cell_type": "code",
   "execution_count": 101,
   "id": "25c9274b-f443-434e-8319-7ecf6e8b2076",
   "metadata": {},
   "outputs": [
    {
     "name": "stdout",
     "output_type": "stream",
     "text": [
      "1 : cat\n",
      "2 : dog\n",
      "3 : lion\n",
      "4 : cow\n",
      "5 : rat\n"
     ]
    }
   ],
   "source": [
    "for idx,animal in enumerate(animals):\n",
    "    print('{} : {}'.format(idx+1 , animal))"
   ]
  },
  {
   "cell_type": "code",
   "execution_count": 104,
   "id": "640109af-5de6-4927-bc7a-54a337a05751",
   "metadata": {},
   "outputs": [
    {
     "name": "stdout",
     "output_type": "stream",
     "text": [
      "[0, 4, 16, 36, 64, 100]\n"
     ]
    }
   ],
   "source": [
    "nums = [0,1,2,3,4,5,6,7,8,9,10]\n",
    "result = []\n",
    "for num in nums:\n",
    "    if (num**2)%2==0:\n",
    "        result.append(num**2)\n",
    "\n",
    "print(result)\n",
    "\n",
    "        \n",
    "    "
   ]
  },
  {
   "cell_type": "code",
   "execution_count": 109,
   "id": "1322bb08-7217-42c3-950e-b9d6f6ff6fc3",
   "metadata": {},
   "outputs": [
    {
     "name": "stdout",
     "output_type": "stream",
     "text": [
      "[10, 13, 16, 19]\n"
     ]
    }
   ],
   "source": [
    "even = [x+10 for x in nums if x%3==0]\n",
    "print(even)"
   ]
  },
  {
   "cell_type": "code",
   "execution_count": 120,
   "id": "5123d843-22a4-48e4-ac99-03f5f674bfdd",
   "metadata": {},
   "outputs": [],
   "source": [
    "animal_dict = {'cat':\"furry\",'dog':\"kutta\"}"
   ]
  },
  {
   "cell_type": "code",
   "execution_count": 122,
   "id": "c95f5012-512e-4037-a1e8-d22ba52148f7",
   "metadata": {},
   "outputs": [
    {
     "name": "stdout",
     "output_type": "stream",
     "text": [
      "True\n"
     ]
    }
   ],
   "source": [
    "print('cat' in animal_dict)"
   ]
  },
  {
   "cell_type": "code",
   "execution_count": 123,
   "id": "89c98979-6c54-4440-9966-dba29707ce72",
   "metadata": {},
   "outputs": [],
   "source": [
    "animal_dict['lion']='bekar jaanwar'"
   ]
  },
  {
   "cell_type": "code",
   "execution_count": 125,
   "id": "64cde119-16c3-4a16-a8f0-5e8f8df3c155",
   "metadata": {},
   "outputs": [
    {
     "name": "stdout",
     "output_type": "stream",
     "text": [
      "True\n",
      "bekar jaanwar\n"
     ]
    }
   ],
   "source": [
    "print('lion' in animal_dict)\n",
    "print(animal_dict['lion'])"
   ]
  },
  {
   "cell_type": "code",
   "execution_count": 127,
   "id": "70eaf847-e773-4c10-bb32-15c1eca77d43",
   "metadata": {},
   "outputs": [
    {
     "name": "stdout",
     "output_type": "stream",
     "text": [
      "N/A bekar jaanwar\n"
     ]
    }
   ],
   "source": [
    "# if data is not there , it should give a default\n",
    "print(animal_dict.get('monkey','N/A') , animal_dict.get('lion','N/A'))"
   ]
  },
  {
   "cell_type": "code",
   "execution_count": 130,
   "id": "8ed9046c-c9dd-488e-90c3-2ff710f89dba",
   "metadata": {},
   "outputs": [
    {
     "name": "stdout",
     "output_type": "stream",
     "text": [
      "cat : furry\n",
      "dog : kutta\n",
      "lion : bekar jaanwar\n"
     ]
    }
   ],
   "source": [
    "for animal,value in animal_dict.items():\n",
    "    print('{} : {}'.format(animal,value))"
   ]
  },
  {
   "cell_type": "code",
   "execution_count": 131,
   "id": "e09d82f8-34fa-451f-893e-5c958c54900e",
   "metadata": {},
   "outputs": [],
   "source": [
    "dic = {}\n",
    "for i in range(5):\n",
    "    dic[i+1]=(i+1)**2"
   ]
  },
  {
   "cell_type": "code",
   "execution_count": 132,
   "id": "ce686c63-b82d-4126-85d7-000fa87f052c",
   "metadata": {},
   "outputs": [
    {
     "data": {
      "text/plain": [
       "{1: 1, 2: 4, 3: 9, 4: 16, 5: 25}"
      ]
     },
     "execution_count": 132,
     "metadata": {},
     "output_type": "execute_result"
    }
   ],
   "source": [
    "dic\n"
   ]
  },
  {
   "cell_type": "code",
   "execution_count": 134,
   "id": "405a3e28-d825-4299-9e3a-d58e3f1c694d",
   "metadata": {},
   "outputs": [
    {
     "name": "stdout",
     "output_type": "stream",
     "text": [
      "{2: 4, 4: 16}\n"
     ]
    }
   ],
   "source": [
    "dic1 = {}\n",
    "for num,sqre in dic.items():\n",
    "    \n",
    "    if num%2==0:\n",
    "        dic1[num]=sqre\n",
    "\n",
    "print(dic1)"
   ]
  },
  {
   "cell_type": "code",
   "execution_count": 135,
   "id": "ba8f1597-ca16-4953-8054-b7934251ac69",
   "metadata": {},
   "outputs": [
    {
     "data": {
      "text/plain": [
       "{2: 4, 4: 16, 6: 36}"
      ]
     },
     "execution_count": 135,
     "metadata": {},
     "output_type": "execute_result"
    }
   ],
   "source": [
    "nums = [1,2,3,4,5,6]\n",
    "sq_dict = {x:x**2 for x in nums if x%2==0}\n",
    "sq_dict"
   ]
  },
  {
   "cell_type": "markdown",
   "id": "fe2c029f-a05f-46bf-af11-95fcb27c6be3",
   "metadata": {},
   "source": [
    "## SETS"
   ]
  },
  {
   "cell_type": "code",
   "execution_count": 140,
   "id": "2ac25786-4349-41ab-8842-c77e7f093f59",
   "metadata": {},
   "outputs": [
    {
     "data": {
      "text/plain": [
       "{'cats', 'dogs'}"
      ]
     },
     "execution_count": 140,
     "metadata": {},
     "output_type": "execute_result"
    }
   ],
   "source": [
    "animals = {'cats','dogs','cats'}   # are unordered , sequence can change anytime\n",
    "animals"
   ]
  },
  {
   "cell_type": "code",
   "execution_count": 139,
   "id": "b1d84ac2-face-461c-82e4-d9c39cf17b7b",
   "metadata": {},
   "outputs": [
    {
     "name": "stdout",
     "output_type": "stream",
     "text": [
      "True\n"
     ]
    }
   ],
   "source": [
    "print('dogs' in animals)"
   ]
  },
  {
   "cell_type": "code",
   "execution_count": 143,
   "id": "03a89834-2ecb-4cfa-b283-b995c19e21f7",
   "metadata": {},
   "outputs": [],
   "source": [
    "animals.add('Dragons'\n",
    "           )"
   ]
  },
  {
   "cell_type": "code",
   "execution_count": 144,
   "id": "a761be22-0883-4693-a87b-a57aaaf8fc28",
   "metadata": {},
   "outputs": [
    {
     "data": {
      "text/plain": [
       "{'Dragons', 'cats', 'dogs', 'lions'}"
      ]
     },
     "execution_count": 144,
     "metadata": {},
     "output_type": "execute_result"
    }
   ],
   "source": [
    "animals"
   ]
  },
  {
   "cell_type": "code",
   "execution_count": 150,
   "id": "f121b053-3534-45a2-9ba2-6d70d639c882",
   "metadata": {},
   "outputs": [
    {
     "name": "stdout",
     "output_type": "stream",
     "text": [
      "1 : dogs\n",
      "2 : buffelo\n",
      "3 : Dragons\n",
      "4 : lions\n",
      "5 : cats\n"
     ]
    }
   ],
   "source": [
    "animals.add('buffelo')\n",
    "for idx,animal in enumerate(animals):\n",
    "    print(\"{} : {}\".format(idx+1,animal))"
   ]
  },
  {
   "cell_type": "code",
   "execution_count": 1,
   "id": "72429b9f-5cfb-44bc-9654-836fa98c7dc3",
   "metadata": {},
   "outputs": [],
   "source": [
    "from math import sqrt"
   ]
  },
  {
   "cell_type": "code",
   "execution_count": 3,
   "id": "07c52a3b-7e3d-4cbd-b4b3-625feb71efbb",
   "metadata": {},
   "outputs": [
    {
     "name": "stdout",
     "output_type": "stream",
     "text": [
      "{0, 1, 2, 3, 4, 5, 6, 7}\n"
     ]
    }
   ],
   "source": [
    "print({int(sqrt(x)) for x in range(50)})"
   ]
  },
  {
   "cell_type": "code",
   "execution_count": 10,
   "id": "def8fe9e-5e78-4cd7-bfe8-71f090773807",
   "metadata": {},
   "outputs": [],
   "source": [
    "tup = (5,6,[3,4])\n",
    "tup[2][0]=4\n",
    "tup[2].append(5)"
   ]
  },
  {
   "cell_type": "code",
   "execution_count": 11,
   "id": "ecc40259-413f-4271-8127-0566e7ae7266",
   "metadata": {},
   "outputs": [
    {
     "data": {
      "text/plain": [
       "(5, 6, [4, 4, 5])"
      ]
     },
     "execution_count": 11,
     "metadata": {},
     "output_type": "execute_result"
    }
   ],
   "source": [
    "tup"
   ]
  },
  {
   "cell_type": "code",
   "execution_count": 13,
   "id": "3e9ed2aa-383d-40d1-829d-92c4e129f113",
   "metadata": {},
   "outputs": [],
   "source": [
    "D = {(x,x+1): x for x in range(20)}\n",
    "t = (6,7)"
   ]
  },
  {
   "cell_type": "code",
   "execution_count": 15,
   "id": "3cd7426c-c703-4173-9e3b-816d721c350c",
   "metadata": {},
   "outputs": [
    {
     "data": {
      "text/plain": [
       "4"
      ]
     },
     "execution_count": 15,
     "metadata": {},
     "output_type": "execute_result"
    }
   ],
   "source": [
    "D[(4,5)]"
   ]
  },
  {
   "cell_type": "markdown",
   "id": "b27b21de-2e6a-40bf-8e72-82d0f09d2e83",
   "metadata": {},
   "source": [
    "## Functions"
   ]
  },
  {
   "cell_type": "code",
   "execution_count": 71,
   "id": "cf0a7e68-ed6b-4f90-91c2-ff9afb00f90f",
   "metadata": {},
   "outputs": [],
   "source": [
    "Input1= \"Hello world, hello Python! World of Python.\"\n",
    "Input2= \"To be or not to be, that is the question.\"\n",
    "Input3= \"a a a b b c\""
   ]
  },
  {
   "cell_type": "code",
   "execution_count": 69,
   "id": "b1db54ef-22c5-49f2-84f7-dfd647e81236",
   "metadata": {},
   "outputs": [
    {
     "name": "stdout",
     "output_type": "stream",
     "text": [
      ", 11\n",
      "! 25\n",
      ". 42\n",
      "Hello world  hello Python  World of Python \n"
     ]
    }
   ],
   "source": [
    "regex=[',','!','.','?']\n",
    "for i in range(len(Input1)):\n",
    "    if Input1[i] in regex:\n",
    "        print(Input1[i],i)\n",
    "        Input1 = Input1.replace(Input1[i],\" \")\n",
    "\n",
    "print(Input1)"
   ]
  },
  {
   "cell_type": "code",
   "execution_count": 70,
   "id": "2fdbd7e8-7d27-4360-a94f-4a7af9820571",
   "metadata": {},
   "outputs": [],
   "source": [
    "def freq(Input):\n",
    "    regex=[',','!','.','?']\n",
    "    for i in range(len(Input)):\n",
    "        if Input[i] in regex:\n",
    "            Input = Input.replace(Input[i],\" \")\n",
    "    Input = Input.split()\n",
    "\n",
    "    result = {}\n",
    "    for word in Input:\n",
    "        if word.lower() in result:\n",
    "            result[word.lower()]+=1\n",
    "        else:\n",
    "            result[word.lower()] = 1\n",
    "\n",
    "    return result\n",
    "    "
   ]
  },
  {
   "cell_type": "code",
   "execution_count": 72,
   "id": "a40183b2-d4a4-4d2b-a413-c23228772e29",
   "metadata": {},
   "outputs": [
    {
     "data": {
      "text/plain": [
       "{'hello': 2, 'world': 2, 'python': 2, 'of': 1}"
      ]
     },
     "execution_count": 72,
     "metadata": {},
     "output_type": "execute_result"
    }
   ],
   "source": [
    "freq(Input1)"
   ]
  },
  {
   "cell_type": "code",
   "execution_count": 74,
   "id": "a6cba5df-da35-4130-8837-ff315691ec5c",
   "metadata": {},
   "outputs": [
    {
     "data": {
      "text/plain": [
       "{'a': 3, 'b': 2, 'c': 1}"
      ]
     },
     "execution_count": 74,
     "metadata": {},
     "output_type": "execute_result"
    }
   ],
   "source": [
    "freq(Input3)"
   ]
  },
  {
   "cell_type": "code",
   "execution_count": null,
   "id": "b14c8d3e-736d-4bca-ae9f-d7bbd4decd28",
   "metadata": {},
   "outputs": [],
   "source": []
  },
  {
   "cell_type": "markdown",
   "id": "cc24c8a6-a5ce-4857-94e2-5cb8c7e173c0",
   "metadata": {},
   "source": [
    "# CLASSES"
   ]
  },
  {
   "cell_type": "code",
   "execution_count": 78,
   "id": "4c2e0b52-40f7-4933-8310-e009d64c75b1",
   "metadata": {},
   "outputs": [],
   "source": [
    "class Greeater:\n",
    "    # constructors\n",
    "    def __init__(self,name):\n",
    "        self.name = name  ## instance variable\n",
    "    def greet(self,loud=False):\n",
    "        if loud:\n",
    "            print('HELLO, {}'.format(self.name.upper()))\n",
    "        else:\n",
    "            print('hello, {}'.format(self.name))\n",
    "\n",
    "                  \n",
    "            \n",
    "        \n"
   ]
  },
  {
   "cell_type": "code",
   "execution_count": 79,
   "id": "0487ba2f-2b66-4041-b1ea-680c9193b4e3",
   "metadata": {},
   "outputs": [
    {
     "name": "stdout",
     "output_type": "stream",
     "text": [
      "hello, Gaurav\n"
     ]
    }
   ],
   "source": [
    "g = Greeater('Gaurav')\n",
    "g.greet()"
   ]
  },
  {
   "cell_type": "code",
   "execution_count": 80,
   "id": "dc424381-735a-4d22-b96c-2907233e0c55",
   "metadata": {},
   "outputs": [
    {
     "name": "stdout",
     "output_type": "stream",
     "text": [
      "HELLO, GAURAV\n"
     ]
    }
   ],
   "source": [
    "g.greet(loud=True)"
   ]
  },
  {
   "cell_type": "code",
   "execution_count": 84,
   "id": "b78caf12-1f23-453e-a04b-28c2be60ebf9",
   "metadata": {},
   "outputs": [],
   "source": [
    "class data:\n",
    "    def __init__(self,name,age):\n",
    "        self.name = name\n",
    "        self.age = age\n",
    "\n",
    "    def call(self):\n",
    "        print('Hello {} , your age is : {}'.format(self.name,self.age))"
   ]
  },
  {
   "cell_type": "code",
   "execution_count": 85,
   "id": "79b6584f-767c-44a3-9229-32831b766b9d",
   "metadata": {},
   "outputs": [],
   "source": [
    "G = data(\"Milan\",22)"
   ]
  },
  {
   "cell_type": "code",
   "execution_count": 86,
   "id": "99070ffb-b973-4536-a603-1e692afa86e8",
   "metadata": {},
   "outputs": [
    {
     "name": "stdout",
     "output_type": "stream",
     "text": [
      "Hello Milan , your age is : 22\n"
     ]
    }
   ],
   "source": [
    "G.call()\n"
   ]
  },
  {
   "cell_type": "code",
   "execution_count": null,
   "id": "dd707f79-11ec-401a-a99f-604aa05a8253",
   "metadata": {},
   "outputs": [],
   "source": []
  },
  {
   "cell_type": "code",
   "execution_count": null,
   "id": "ed84c557-cc1c-44cf-9fe8-c00e7ec7d66b",
   "metadata": {},
   "outputs": [],
   "source": []
  }
 ],
 "metadata": {
  "kernelspec": {
   "display_name": "Python [conda env:base] *",
   "language": "python",
   "name": "conda-base-py"
  },
  "language_info": {
   "codemirror_mode": {
    "name": "ipython",
    "version": 3
   },
   "file_extension": ".py",
   "mimetype": "text/x-python",
   "name": "python",
   "nbconvert_exporter": "python",
   "pygments_lexer": "ipython3",
   "version": "3.13.5"
  }
 },
 "nbformat": 4,
 "nbformat_minor": 5
}
